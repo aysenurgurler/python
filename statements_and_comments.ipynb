{
  "nbformat": 4,
  "nbformat_minor": 0,
  "metadata": {
    "colab": {
      "provenance": [],
      "include_colab_link": true
    },
    "kernelspec": {
      "name": "python3",
      "display_name": "Python 3"
    },
    "language_info": {
      "name": "python"
    }
  },
  "cells": [
    {
      "cell_type": "markdown",
      "metadata": {
        "id": "view-in-github",
        "colab_type": "text"
      },
      "source": [
        "<a href=\"https://colab.research.google.com/github/aysenurgurler/python/blob/main/statements_and_comments.ipynb\" target=\"_parent\"><img src=\"https://colab.research.google.com/assets/colab-badge.svg\" alt=\"Open In Colab\"/></a>"
      ]
    },
    {
      "cell_type": "code",
      "execution_count": null,
      "metadata": {
        "id": "LRCRuQyZpH4-"
      },
      "outputs": [],
      "source": [
        "pi = 3.14"
      ]
    },
    {
      "cell_type": "code",
      "source": [
        "print(pi)"
      ],
      "metadata": {
        "colab": {
          "base_uri": "https://localhost:8080/"
        },
        "id": "Bj4B4TiXpMKK",
        "outputId": "2ec0f819-a9bb-46e9-ea32-e0face093de8"
      },
      "execution_count": null,
      "outputs": [
        {
          "output_type": "stream",
          "name": "stdout",
          "text": [
            "3.14\n"
          ]
        }
      ]
    },
    {
      "cell_type": "code",
      "source": [
        "def greetings(name):\n",
        "    print(f'Hello, {name}')"
      ],
      "metadata": {
        "id": "Cez-677UpNOL"
      },
      "execution_count": null,
      "outputs": []
    },
    {
      "cell_type": "code",
      "source": [
        "pi = 3.14\n",
        "if pi < 3.15:\n",
        "  pi = pi + 0.1\n",
        "\n",
        "print(pi)"
      ],
      "metadata": {
        "colab": {
          "base_uri": "https://localhost:8080/"
        },
        "id": "hLXA_SESpRa-",
        "outputId": "daf5e608-3a4b-4dbb-d714-a38357a53ee4"
      },
      "execution_count": null,
      "outputs": [
        {
          "output_type": "stream",
          "name": "stdout",
          "text": [
            "3.24\n"
          ]
        }
      ]
    },
    {
      "cell_type": "code",
      "source": [
        "# obviously this function shows a greeting message according to the given name :)\n",
        "def greetings(name):\n",
        "    print(f'Hello, {name}')"
      ],
      "metadata": {
        "id": "ZnyDprjdpj_0"
      },
      "execution_count": null,
      "outputs": []
    },
    {
      "cell_type": "code",
      "source": [
        "#def greeting(name):\n",
        "#  print(hello + name)\n",
        "#greeting('Deniz')"
      ],
      "metadata": {
        "id": "6157bxOFpof6"
      },
      "execution_count": null,
      "outputs": []
    },
    {
      "cell_type": "code",
      "source": [
        "def greeting(name):\n",
        "  print('hello ' + name)\n",
        "greeting('Deniz')"
      ],
      "metadata": {
        "colab": {
          "base_uri": "https://localhost:8080/"
        },
        "id": "os4vkz4_puun",
        "outputId": "1c638db7-7c22-4d07-9068-faae6fb55485"
      },
      "execution_count": null,
      "outputs": [
        {
          "output_type": "stream",
          "name": "stdout",
          "text": [
            "hello Deniz\n"
          ]
        }
      ]
    },
    {
      "cell_type": "code",
      "source": [
        "\"\"\"\n",
        "This is a long comment that can make the code harder\n",
        "to read on a small screen, so it needs to be broken into\n",
        "multiple lines using triple-quotes instead of putting a \n",
        "hash symbol in front of each line\n",
        "\"\"\"\n",
        "def greetings(name):\n",
        "    print(f'Hello, {name}')"
      ],
      "metadata": {
        "id": "PqZ-iDvFp3B-"
      },
      "execution_count": null,
      "outputs": []
    }
  ]
}